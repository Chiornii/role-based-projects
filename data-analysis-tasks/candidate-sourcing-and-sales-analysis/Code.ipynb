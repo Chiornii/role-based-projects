{
 "cells": [
  {
   "cell_type": "code",
   "execution_count": 1,
   "id": "9185d6a6-9592-452d-a30a-8a78959b718e",
   "metadata": {},
   "outputs": [],
   "source": [
    "import pandas as pd\n",
    "import seaborn as sns\n",
    "import matplotlib.pyplot as plt\n",
    "from matplotlib.cm import get_cmap\n",
    "import numpy as np\n",
    "\n",
    "# Step 1: File upload\n",
    "file_path_assigned_leads = r\"C:\\Users\\_Lenovo_\\Desktop\\data-analysis-tasks\\assigned_leads (1).xlsx\"\n",
    "file_path_contracted_agents = r\"C:\\Users\\_Lenovo_\\Desktop\\data-analysis-tasks\\contracted_agents (1).xlsx\"\n",
    "file_path_sales_jan_jul = r\"C:\\Users\\_Lenovo_\\Desktop\\data-analysis-tasks\\sales_jan_jul (1).xlsx\"\n",
    "\n",
    "df_assigned_leads = pd.read_excel(file_path_assigned_leads, sheet_name=0, header=0, index_col=None)\n",
    "df_contracted_agents = pd.read_excel(file_path_contracted_agents, sheet_name=0, header=0, index_col=3)\n",
    "df_sales_jan_jul = pd.read_excel(file_path_sales_jan_jul, sheet_name=0, header=0)"
   ]
  },
  {
   "cell_type": "markdown",
   "id": "485aacac-8cb2-401f-9722-8df662bdc264",
   "metadata": {},
   "source": [
    "We have 304 valid agents from the contracted_agents file and 881 unique logins in the sales_jan_jul file. Let's start with a general overview of the sales data — a summary table of sales and leads. Then we’ll move on to analyzing agents for whom we have information."
   ]
  },
  {
   "cell_type": "code",
   "execution_count": 3,
   "id": "cec3fa59-c2b7-4237-9cba-28b86ab19f21",
   "metadata": {},
   "outputs": [
    {
     "data": {
      "text/html": [
       "<div>\n",
       "<style scoped>\n",
       "    .dataframe tbody tr th:only-of-type {\n",
       "        vertical-align: middle;\n",
       "    }\n",
       "\n",
       "    .dataframe tbody tr th {\n",
       "        vertical-align: top;\n",
       "    }\n",
       "\n",
       "    .dataframe thead th {\n",
       "        text-align: right;\n",
       "    }\n",
       "</style>\n",
       "<table border=\"1\" class=\"dataframe\">\n",
       "  <thead>\n",
       "    <tr style=\"text-align: right;\">\n",
       "      <th></th>\n",
       "      <th>Total profit</th>\n",
       "      <th>Sales Count</th>\n",
       "      <th>Leads Taken</th>\n",
       "    </tr>\n",
       "  </thead>\n",
       "  <tbody>\n",
       "    <tr>\n",
       "      <th>mean</th>\n",
       "      <td>6.152326</td>\n",
       "      <td>1.223072</td>\n",
       "      <td>212.995421</td>\n",
       "    </tr>\n",
       "    <tr>\n",
       "      <th>std</th>\n",
       "      <td>8.344309</td>\n",
       "      <td>0.558375</td>\n",
       "      <td>247.285363</td>\n",
       "    </tr>\n",
       "    <tr>\n",
       "      <th>min</th>\n",
       "      <td>-5.569839</td>\n",
       "      <td>1.000000</td>\n",
       "      <td>1.000000</td>\n",
       "    </tr>\n",
       "    <tr>\n",
       "      <th>25%</th>\n",
       "      <td>1.418392</td>\n",
       "      <td>1.000000</td>\n",
       "      <td>33.000000</td>\n",
       "    </tr>\n",
       "    <tr>\n",
       "      <th>50%</th>\n",
       "      <td>3.782100</td>\n",
       "      <td>1.000000</td>\n",
       "      <td>134.000000</td>\n",
       "    </tr>\n",
       "    <tr>\n",
       "      <th>75%</th>\n",
       "      <td>7.674975</td>\n",
       "      <td>1.000000</td>\n",
       "      <td>316.000000</td>\n",
       "    </tr>\n",
       "    <tr>\n",
       "      <th>max</th>\n",
       "      <td>140.127120</td>\n",
       "      <td>15.000000</td>\n",
       "      <td>4652.000000</td>\n",
       "    </tr>\n",
       "  </tbody>\n",
       "</table>\n",
       "</div>"
      ],
      "text/plain": [
       "      Total profit  Sales Count  Leads Taken\n",
       "mean      6.152326     1.223072   212.995421\n",
       "std       8.344309     0.558375   247.285363\n",
       "min      -5.569839     1.000000     1.000000\n",
       "25%       1.418392     1.000000    33.000000\n",
       "50%       3.782100     1.000000   134.000000\n",
       "75%       7.674975     1.000000   316.000000\n",
       "max     140.127120    15.000000  4652.000000"
      ]
     },
     "execution_count": 3,
     "metadata": {},
     "output_type": "execute_result"
    }
   ],
   "source": [
    "# Get describe without 'Ticket Issuing Date'\n",
    "df_sales_jan_jul_describe = df_sales_jan_jul.drop(columns='Ticket Issuing Date').describe()\n",
    "\n",
    "# Add the column Leads Taken from another describe — by rows (axis=1)\n",
    "df_sales_jan_jul_describe['Leads Taken'] = df_assigned_leads['Leads Taken'].describe()\n",
    "df_sales_jan_jul_describe = df_sales_jan_jul_describe.drop(index='count')\n",
    "df_sales_jan_jul_describe"
   ]
  },
  {
   "attachments": {},
   "cell_type": "markdown",
   "id": "409845ea-9674-483c-84f4-ddedaab0d8f8",
   "metadata": {},
   "source": [
    "In the table above, Leads Taken reflects the number of leads received on average by an agent per month (based on the assigned_leads file). On the other hand, the metrics Total profit and Sales Count are daily averages per agent — calculated only for the days when the agent made at least one sale. Days without any sales are not considered.\n",
    "\n",
    "If we take into account all days in the sales_jan_jul table from 01.01.2024 to 31.07.2024, including days with no sales, then **on average, each agent makes about 0.05 sales per day and earns $0.26 in profit per day**.\n",
    "\n",
    "You can also see that the median (50th percentile) and the maximum in the Leads Taken column differ significantly. This indicates an uneven distribution of leads. And there is a **clear outlier — the row \"va380, 2024-05\" with a \"Leads Taken\" value of 4652**, with the next highest values being 2957 and 2499. After that, the values decline more gradually."
   ]
  },
  {
   "cell_type": "markdown",
   "id": "2022a9e1-13c9-4046-b5d5-1738f352ace4",
   "metadata": {},
   "source": [
    "Let’s highlight the top 10 agents by number of sales and the bottom 10 with the lowest results."
   ]
  },
  {
   "cell_type": "code",
   "execution_count": 4,
   "id": "ee28c247-39f1-4ffc-b5b1-7b171c47aba2",
   "metadata": {},
   "outputs": [
    {
     "data": {
      "text/html": [
       "\n",
       "<div style=\"display: flex; gap: 40px;\">\n",
       "  <div>\n",
       "    <h3>Top 10</h3>\n",
       "    <table border=\"1\" class=\"dataframe\">\n",
       "  <thead>\n",
       "    <tr style=\"text-align: right;\">\n",
       "      <th></th>\n",
       "      <th>Sales Count</th>\n",
       "    </tr>\n",
       "    <tr>\n",
       "      <th>Login</th>\n",
       "      <th></th>\n",
       "    </tr>\n",
       "  </thead>\n",
       "  <tbody>\n",
       "    <tr>\n",
       "      <th>am212</th>\n",
       "      <td>103</td>\n",
       "    </tr>\n",
       "    <tr>\n",
       "      <th>vk659</th>\n",
       "      <td>99</td>\n",
       "    </tr>\n",
       "    <tr>\n",
       "      <th>ap168</th>\n",
       "      <td>81</td>\n",
       "    </tr>\n",
       "    <tr>\n",
       "      <th>np100</th>\n",
       "      <td>81</td>\n",
       "    </tr>\n",
       "    <tr>\n",
       "      <th>mb151</th>\n",
       "      <td>80</td>\n",
       "    </tr>\n",
       "    <tr>\n",
       "      <th>em142</th>\n",
       "      <td>80</td>\n",
       "    </tr>\n",
       "    <tr>\n",
       "      <th>sm1123</th>\n",
       "      <td>74</td>\n",
       "    </tr>\n",
       "    <tr>\n",
       "      <th>ak124</th>\n",
       "      <td>72</td>\n",
       "    </tr>\n",
       "    <tr>\n",
       "      <th>gg100</th>\n",
       "      <td>71</td>\n",
       "    </tr>\n",
       "    <tr>\n",
       "      <th>sa159</th>\n",
       "      <td>71</td>\n",
       "    </tr>\n",
       "  </tbody>\n",
       "</table>\n",
       "  </div>\n",
       "  <div>\n",
       "    <h3>Bottom 10</h3>\n",
       "    <table border=\"1\" class=\"dataframe\">\n",
       "  <thead>\n",
       "    <tr style=\"text-align: right;\">\n",
       "      <th></th>\n",
       "      <th>Sales Count</th>\n",
       "    </tr>\n",
       "    <tr>\n",
       "      <th>Login</th>\n",
       "      <th></th>\n",
       "    </tr>\n",
       "  </thead>\n",
       "  <tbody>\n",
       "    <tr>\n",
       "      <th>mm1730</th>\n",
       "      <td>1</td>\n",
       "    </tr>\n",
       "    <tr>\n",
       "      <th>nb621</th>\n",
       "      <td>1</td>\n",
       "    </tr>\n",
       "    <tr>\n",
       "      <th>my277</th>\n",
       "      <td>1</td>\n",
       "    </tr>\n",
       "    <tr>\n",
       "      <th>mv339</th>\n",
       "      <td>1</td>\n",
       "    </tr>\n",
       "    <tr>\n",
       "      <th>ms3181</th>\n",
       "      <td>1</td>\n",
       "    </tr>\n",
       "    <tr>\n",
       "      <th>ms1898</th>\n",
       "      <td>1</td>\n",
       "    </tr>\n",
       "    <tr>\n",
       "      <th>mr1304</th>\n",
       "      <td>1</td>\n",
       "    </tr>\n",
       "    <tr>\n",
       "      <th>mp321</th>\n",
       "      <td>1</td>\n",
       "    </tr>\n",
       "    <tr>\n",
       "      <th>mp100</th>\n",
       "      <td>1</td>\n",
       "    </tr>\n",
       "    <tr>\n",
       "      <th>mk1737</th>\n",
       "      <td>1</td>\n",
       "    </tr>\n",
       "  </tbody>\n",
       "</table>\n",
       "  </div>\n",
       "</div>\n"
      ],
      "text/plain": [
       "<IPython.core.display.HTML object>"
      ]
     },
     "metadata": {},
     "output_type": "display_data"
    }
   ],
   "source": [
    "sales_by_login = df_sales_jan_jul.groupby('Login')['Sales Count'].sum().sort_values(ascending=False)\n",
    "\n",
    "from IPython.display import display, HTML\n",
    "\n",
    "top_10 = pd.DataFrame(sales_by_login).head(10)\n",
    "bottom_10 = pd.DataFrame(sales_by_login).tail(10)\n",
    "\n",
    "html = f\"\"\"\n",
    "<div style=\"display: flex; gap: 40px;\">\n",
    "  <div>\n",
    "    <h3>Top 10</h3>\n",
    "    {top_10.to_html()}\n",
    "  </div>\n",
    "  <div>\n",
    "    <h3>Bottom 10</h3>\n",
    "    {bottom_10.to_html()}\n",
    "  </div>\n",
    "</div>\n",
    "\"\"\"\n",
    "\n",
    "display(HTML(html))\n"
   ]
  },
  {
   "cell_type": "markdown",
   "id": "8187c012-6001-4127-bf77-69b645080684",
   "metadata": {},
   "source": [
    "Below is a table showing the top 10 agents who received the most leads and the bottom 10 with the fewest received leads."
   ]
  },
  {
   "cell_type": "code",
   "execution_count": 5,
   "id": "bc54aacf-9926-4a47-9e34-5031bdae68f5",
   "metadata": {},
   "outputs": [
    {
     "data": {
      "text/html": [
       "\n",
       "<div style=\"display: flex; gap: 40px;\">\n",
       "  <div>\n",
       "    <h3>Top 10</h3>\n",
       "    <table border=\"1\" class=\"dataframe\">\n",
       "  <thead>\n",
       "    <tr style=\"text-align: right;\">\n",
       "      <th></th>\n",
       "      <th>Leads Taken</th>\n",
       "    </tr>\n",
       "    <tr>\n",
       "      <th>Login</th>\n",
       "      <th></th>\n",
       "    </tr>\n",
       "  </thead>\n",
       "  <tbody>\n",
       "    <tr>\n",
       "      <th>vr209</th>\n",
       "      <td>11004</td>\n",
       "    </tr>\n",
       "    <tr>\n",
       "      <th>va380</th>\n",
       "      <td>8301</td>\n",
       "    </tr>\n",
       "    <tr>\n",
       "      <th>ak1020</th>\n",
       "      <td>6887</td>\n",
       "    </tr>\n",
       "    <tr>\n",
       "      <th>hm339</th>\n",
       "      <td>6297</td>\n",
       "    </tr>\n",
       "    <tr>\n",
       "      <th>mg524</th>\n",
       "      <td>6071</td>\n",
       "    </tr>\n",
       "    <tr>\n",
       "      <th>ss5550</th>\n",
       "      <td>5772</td>\n",
       "    </tr>\n",
       "    <tr>\n",
       "      <th>jp246</th>\n",
       "      <td>5532</td>\n",
       "    </tr>\n",
       "    <tr>\n",
       "      <th>bo117</th>\n",
       "      <td>5202</td>\n",
       "    </tr>\n",
       "    <tr>\n",
       "      <th>al448</th>\n",
       "      <td>5029</td>\n",
       "    </tr>\n",
       "    <tr>\n",
       "      <th>dk593</th>\n",
       "      <td>4884</td>\n",
       "    </tr>\n",
       "  </tbody>\n",
       "</table>\n",
       "  </div>\n",
       "  <div>\n",
       "    <h3>Bottom 10</h3>\n",
       "    <table border=\"1\" class=\"dataframe\">\n",
       "  <thead>\n",
       "    <tr style=\"text-align: right;\">\n",
       "      <th></th>\n",
       "      <th>Leads Taken</th>\n",
       "    </tr>\n",
       "    <tr>\n",
       "      <th>Login</th>\n",
       "      <th></th>\n",
       "    </tr>\n",
       "  </thead>\n",
       "  <tbody>\n",
       "    <tr>\n",
       "      <th>sm2315</th>\n",
       "      <td>1</td>\n",
       "    </tr>\n",
       "    <tr>\n",
       "      <th>ak1762</th>\n",
       "      <td>1</td>\n",
       "    </tr>\n",
       "    <tr>\n",
       "      <th>kr171</th>\n",
       "      <td>1</td>\n",
       "    </tr>\n",
       "    <tr>\n",
       "      <th>mb627</th>\n",
       "      <td>1</td>\n",
       "    </tr>\n",
       "    <tr>\n",
       "      <th>ja500</th>\n",
       "      <td>1</td>\n",
       "    </tr>\n",
       "    <tr>\n",
       "      <th>ss5739</th>\n",
       "      <td>1</td>\n",
       "    </tr>\n",
       "    <tr>\n",
       "      <th>sk3877</th>\n",
       "      <td>1</td>\n",
       "    </tr>\n",
       "    <tr>\n",
       "      <th>pn306</th>\n",
       "      <td>1</td>\n",
       "    </tr>\n",
       "    <tr>\n",
       "      <th>mb890</th>\n",
       "      <td>1</td>\n",
       "    </tr>\n",
       "    <tr>\n",
       "      <th>hs952</th>\n",
       "      <td>1</td>\n",
       "    </tr>\n",
       "  </tbody>\n",
       "</table>\n",
       "  </div>\n",
       "</div>\n"
      ],
      "text/plain": [
       "<IPython.core.display.HTML object>"
      ]
     },
     "metadata": {},
     "output_type": "display_data"
    }
   ],
   "source": [
    "Leads_Taken_by_login = df_assigned_leads.groupby('Login')['Leads Taken'].sum().sort_values(ascending=False)\n",
    "from IPython.display import display, HTML\n",
    "\n",
    "top_10 = pd.DataFrame(Leads_Taken_by_login).head(10)\n",
    "bottom_10 = pd.DataFrame(Leads_Taken_by_login).tail(10)\n",
    "\n",
    "html = f\"\"\"\n",
    "<div style=\"display: flex; gap: 40px;\">\n",
    "  <div>\n",
    "    <h3>Top 10</h3>\n",
    "    {top_10.to_html()}\n",
    "  </div>\n",
    "  <div>\n",
    "    <h3>Bottom 10</h3>\n",
    "    {bottom_10.to_html()}\n",
    "  </div>\n",
    "</div>\n",
    "\"\"\"\n",
    "\n",
    "display(HTML(html))"
   ]
  },
  {
   "cell_type": "markdown",
   "id": "e8fd6f6a-aa0e-47f5-b560-2cef0ef6a470",
   "metadata": {},
   "source": [
    "It’s also worth noting that **none of the top 10 agents by sales appear in the top 10 by received leads**. The first overlap is the 9th-ranked sales agent “gg100,” who ranks 162nd in terms of received leads out of 2436 agents who received at least some leads."
   ]
  },
  {
   "cell_type": "markdown",
   "id": "281487a8-c246-4dc5-a740-2046dac8245b",
   "metadata": {},
   "source": [
    "In the sales table, there are 13 logins that do not appear in the lead assignment table. Out of 881 logins in sales_jan_jul, only 868 are present in assigned_leads. Presumably, some agents received leads before the first date in assigned_leads, or there is a data error. Nevertheless, if we calculate the number of leads required for a single sale using this data, **on average, 133 leads are needed to make one sale, which typically generates $5 in profit (Total profit)**."
   ]
  },
  {
   "cell_type": "code",
   "execution_count": 55,
   "id": "c6b15d55-d099-45dc-8a2d-e5625cc23448",
   "metadata": {},
   "outputs": [
    {
     "name": "stdout",
     "output_type": "stream",
     "text": [
      "133.11085205595592\n",
      "5.0302243187626114\n"
     ]
    }
   ],
   "source": [
    "print(df_assigned_leads['Leads Taken'].sum() / df_sales_jan_jul['Sales Count'].sum())\n",
    "print(df_sales_jan_jul['Total profit'].sum() / df_sales_jan_jul['Sales Count'].sum())"
   ]
  },
  {
   "cell_type": "markdown",
   "id": "1d6012b0-f65b-4761-8855-839819f814f5",
   "metadata": {},
   "source": [
    "Let’s look at the overall distribution of sales — how many agents made a certain number of sales."
   ]
  },
  {
   "cell_type": "code",
   "execution_count": 13,
   "id": "2b991710-2440-40b2-b02a-93066d8b530b",
   "metadata": {},
   "outputs": [
    {
     "data": {
      "image/png": "[encoded data removed]",
      "text/plain": [
       "<Figure size 1000x500 with 1 Axes>"
      ]
     },
     "metadata": {},
     "output_type": "display_data"
    }
   ],
   "source": [
    "total_sales = df_sales_jan_jul.groupby('Login')['Sales Count'].sum()\n",
    "\n",
    "# Sort in descending order — optional\n",
    "total_sales = total_sales.sort_values(ascending=False)\n",
    "\n",
    "# Count the number of each value\n",
    "counts = total_sales.value_counts().sort_index()\n",
    "\n",
    "# Build a histogram\n",
    "plt.figure(figsize=(10, 5))\n",
    "counts.plot(kind='bar')\n",
    "\n",
    "plt.title('Sales Distribution Over 7 Months')\n",
    "plt.xlabel('Number of Sales')\n",
    "plt.ylabel('Number of Agents')\n",
    "plt.tight_layout()\n",
    "plt.show()"
   ]
  },
  {
   "cell_type": "markdown",
   "id": "5e0bef79-7d0f-4eb5-9295-58f39d1d9992",
   "metadata": {},
   "source": [
    "As shown in the chart, the vast majority of agents — **approximately 56% — made no more than 4 sales over the 7-month period**. This may indicate that a large portion of agents stopped working shortly after starting."
   ]
  },
  {
   "cell_type": "code",
   "execution_count": 14,
   "id": "f95742a7-d5cf-4fa9-868b-189c5df359b7",
   "metadata": {},
   "outputs": [
    {
     "data": {
      "image/png": "[encoded data removed]",
      "text/plain": [
       "<Figure size 1000x500 with 1 Axes>"
      ]
     },
     "metadata": {},
     "output_type": "display_data"
    }
   ],
   "source": [
    "# Make sure the date column is in datetime format\n",
    "df_sales_jan_jul['Ticket Issuing Date'] = pd.to_datetime(df_sales_jan_jul['Ticket Issuing Date'])\n",
    "\n",
    "# Create a new column with the month in the format '2024-02' (YYYY-MM)\n",
    "df_sales_jan_jul['Month'] = df_sales_jan_jul['Ticket Issuing Date'].dt.to_period('M').astype(str)\n",
    "\n",
    "# Group by month and count unique Login\n",
    "monthly_agent_counts = df_sales_jan_jul.groupby('Month')['Login'].nunique()\n",
    "\n",
    "# Plot the graph\n",
    "plt.figure(figsize=(10, 5))\n",
    "monthly_agent_counts.plot(kind='bar')\n",
    "\n",
    "plt.title('Number of Active Agents by Month')\n",
    "plt.xlabel('Month')\n",
    "plt.ylabel('Unique Logins')\n",
    "plt.grid(axis='y')\n",
    "plt.xticks(rotation=0)\n",
    "plt.tight_layout()\n",
    "plt.show()"
   ]
  },
  {
   "cell_type": "markdown",
   "id": "066c9790-ee5f-4817-a9c7-c8515c9930ee",
   "metadata": {},
   "source": [
    "Until May, there was a relatively positive trend in the number of active agents, but from May to July, the number began to decline, especially noticeably from June to July.\n",
    "\n",
    "It is likely that new employees tend to quit early, possibly due to the low number of leads they receive in the beginning. Let’s test this hypothesis by analyzing new agents from contracted_agents who signed contracts just before the sales_jan_jul period. We’ll examine how the average number of received leads changes based on months of employment."
   ]
  },
  {
   "cell_type": "code",
   "execution_count": 15,
   "id": "aaaaab61-1a1f-4749-a512-808225f5eeff",
   "metadata": {},
   "outputs": [],
   "source": [
    "# Get sets of logins\n",
    "logins_contracted = set(df_contracted_agents.index)\n",
    "logins_assigned = set(df_assigned_leads['Login'])\n",
    "\n",
    "# Find the intersection\n",
    "common_logins = logins_contracted & logins_assigned"
   ]
  },
  {
   "cell_type": "code",
   "execution_count": 16,
   "id": "f12e3b59-45f9-4920-8614-41b5865bc32f",
   "metadata": {},
   "outputs": [
    {
     "data": {
      "image/png": "[encoded data removed]",
      "text/plain": [
       "<Figure size 1000x500 with 1 Axes>"
      ]
     },
     "metadata": {},
     "output_type": "display_data"
    }
   ],
   "source": [
    "# 1. Filter only the required logins\n",
    "filtered_df = df_assigned_leads[df_assigned_leads['Login'].isin(common_logins)].copy()\n",
    "\n",
    "# 2. Make sure Assign Month is in datetime or at least in a sortable format\n",
    "# If these are strings like '2024-03', convert to datetime\n",
    "filtered_df['Assign Month'] = pd.to_datetime(filtered_df['Assign Month'], format='%Y-%m')\n",
    "\n",
    "# 3. Sort the data\n",
    "filtered_df.sort_values(['Login', 'Assign Month'], inplace=True)\n",
    "\n",
    "# 4. Number the months for each agent — first month, second, etc.\n",
    "filtered_df['Month Number'] = filtered_df.groupby('Login').cumcount() + 1\n",
    "\n",
    "# 5. Group by month sequence number and calculate the average Leads Taken\n",
    "avg_leads_by_month = filtered_df.groupby('Month Number')['Leads Taken'].mean()\n",
    "\n",
    "# Replacement dictionary from numbers to text\n",
    "month_order_labels = {\n",
    "    1: 'first', 2: 'second', 3: 'third', 4: 'fourth',\n",
    "    5: 'fifth', 6: 'sixth', 7: 'seventh'\n",
    "}\n",
    "\n",
    "# Rename Series indices (month number → text)\n",
    "avg_leads_by_month_named = avg_leads_by_month.rename(index=month_order_labels)\n",
    "\n",
    "# Build a histogram\n",
    "plt.figure(figsize=(10, 5))\n",
    "avg_leads_by_month_named.plot(kind='bar')\n",
    "\n",
    "plt.title('Average Number of Leads by Agent Work Month')\n",
    "plt.xlabel(\"Agent's Work Month\")\n",
    "plt.ylabel(\"Average 'Leads Taken'\")\n",
    "plt.grid(axis='y')\n",
    "plt.xticks(rotation=0)\n",
    "plt.tight_layout()\n",
    "plt.show()\n"
   ]
  },
  {
   "cell_type": "markdown",
   "id": "124199f6-04c2-478d-a4a8-9c21a335c19a",
   "metadata": {},
   "source": [
    "According to the data, **in their first month, agents receive on average 2 times fewer leads than in the following months**. This likely explains why nearly half of all agents quit after the first month. Below is a table showing how many months agents from contracted_agents stayed active."
   ]
  },
  {
   "cell_type": "code",
   "execution_count": 17,
   "id": "90cb4dee-e0a8-46e9-a682-66663d7f4976",
   "metadata": {},
   "outputs": [
    {
     "data": {
      "text/html": [
       "<div>\n",
       "<style scoped>\n",
       "    .dataframe tbody tr th:only-of-type {\n",
       "        vertical-align: middle;\n",
       "    }\n",
       "\n",
       "    .dataframe tbody tr th {\n",
       "        vertical-align: top;\n",
       "    }\n",
       "\n",
       "    .dataframe thead th {\n",
       "        text-align: right;\n",
       "    }\n",
       "</style>\n",
       "<table border=\"1\" class=\"dataframe\">\n",
       "  <thead>\n",
       "    <tr style=\"text-align: right;\">\n",
       "      <th>Month Number</th>\n",
       "      <th>1</th>\n",
       "      <th>2</th>\n",
       "      <th>3</th>\n",
       "      <th>4</th>\n",
       "      <th>5</th>\n",
       "      <th>6</th>\n",
       "      <th>7</th>\n",
       "    </tr>\n",
       "  </thead>\n",
       "  <tbody>\n",
       "    <tr>\n",
       "      <th>count</th>\n",
       "      <td>212</td>\n",
       "      <td>108</td>\n",
       "      <td>73</td>\n",
       "      <td>38</td>\n",
       "      <td>33</td>\n",
       "      <td>28</td>\n",
       "      <td>19</td>\n",
       "    </tr>\n",
       "  </tbody>\n",
       "</table>\n",
       "</div>"
      ],
      "text/plain": [
       "Month Number    1    2   3   4   5   6   7\n",
       "count         212  108  73  38  33  28  19"
      ]
     },
     "execution_count": 17,
     "metadata": {},
     "output_type": "execute_result"
    }
   ],
   "source": [
    "pd.DataFrame(filtered_df['Month Number'].value_counts().sort_index()).T"
   ]
  },
  {
   "cell_type": "markdown",
   "id": "9a72addd-0947-4fb4-a119-d0325831efee",
   "metadata": {},
   "source": [
    "Out of 304 valid agents in contracted_agents, only 212 received leads to work with, according to the assigned_leads data. This means that about 30% of agents never started working despite signing a contract. All contracts were signed in December 2023 or January 2024, while the sales period covers the first 7 months of 2024. It is likely that these agents either were not given leads or refused to work after signing the contract. Let’s try to determine if there is any correlation between this and the time between application submission and contract signing (based on contracted_agents data)."
   ]
  },
  {
   "cell_type": "code",
   "execution_count": 56,
   "id": "a28d79d7-87d4-416a-82c8-87c663cb3bba",
   "metadata": {},
   "outputs": [],
   "source": [
    "df_contracted_agents['Application Date'] = pd.to_datetime(df_contracted_agents['Application Date'])\n",
    "df_contracted_agents['Contract Date'] = pd.to_datetime(df_contracted_agents['Contract Date'])\n",
    "\n",
    "# Calculate the difference in days\n",
    "df_contracted_agents['Days to Contract'] = (df_contracted_agents['Contract Date'] - df_contracted_agents['Application Date']).dt.days"
   ]
  },
  {
   "cell_type": "code",
   "execution_count": 58,
   "id": "e8cb25c2-d54a-463c-8641-00cc816af30f",
   "metadata": {},
   "outputs": [
    {
     "data": {
      "image/png": "[encoded data removed]",
      "text/plain": [
       "<Figure size 1000x500 with 1 Axes>"
      ]
     },
     "metadata": {},
     "output_type": "display_data"
    }
   ],
   "source": [
    "plt.figure(figsize=(10, 5))\n",
    "\n",
    "# Build a histogram\n",
    "df_contracted_agents['Days to Contract'].hist(bins=50)  # you can change bins for more detail\n",
    "\n",
    "plt.title('Distribution of time until contract')\n",
    "plt.xlabel('Number of days from application to contract')\n",
    "plt.ylabel('Number of agents')\n",
    "plt.grid(True)\n",
    "plt.tight_layout()\n",
    "plt.show()"
   ]
  },
  {
   "cell_type": "code",
   "execution_count": 57,
   "id": "12b697aa-ff04-4d2a-b0b5-49626877a5ba",
   "metadata": {},
   "outputs": [],
   "source": [
    "exclusive_logins = logins_contracted - common_logins\n",
    "# Convert set to list\n",
    "exclusive_logins_list = list(exclusive_logins)\n",
    "\n",
    "# Filter by indexes\n",
    "filtered_days = df_contracted_agents.loc[exclusive_logins_list, 'Days to Contract']\n",
    "\n",
    "# Count the occurrences of each value\n",
    "day_counts = filtered_days.value_counts().sort_index()"
   ]
  },
  {
   "cell_type": "code",
   "execution_count": 59,
   "id": "dc64ccc5-d4e0-47b3-b1de-fc71b8728db5",
   "metadata": {},
   "outputs": [
    {
     "data": {
      "image/png": "[encoded data removed]",
      "text/plain": [
       "<Figure size 1000x500 with 1 Axes>"
      ]
     },
     "metadata": {},
     "output_type": "display_data"
    }
   ],
   "source": [
    "# All unique days from the entire column (sort them)\n",
    "all_days = np.sort(df_contracted_agents['Days to Contract'].dropna().unique())\n",
    "\n",
    "# For each day from all_days take the number from day_counts, if not present — 0\n",
    "frequencies = [day_counts.get(day, 0) for day in all_days]\n",
    "\n",
    "plt.figure(figsize=(10, 5))\n",
    "plt.bar(all_days, frequencies)\n",
    "\n",
    "plt.title('Distribution of days until contract (subset exclusive_logins)')\n",
    "plt.xlabel('Days until contract')\n",
    "plt.ylabel('Number of agents')\n",
    "plt.grid(axis='y')\n",
    "plt.tight_layout()\n",
    "plt.show()"
   ]
  },
  {
   "cell_type": "code",
   "execution_count": 25,
   "id": "7878aa24-6c77-4d52-9584-e76a33107f11",
   "metadata": {},
   "outputs": [
    {
     "data": {
      "image/png": "[encoded data removed]",
      "text/plain": [
       "<Figure size 1200x600 with 1 Axes>"
      ]
     },
     "metadata": {},
     "output_type": "display_data"
    }
   ],
   "source": [
    "import numpy as np\n",
    "import matplotlib.pyplot as plt\n",
    "\n",
    "# Range and number of bins\n",
    "min_day = df_contracted_agents['Days to Contract'].min()\n",
    "max_day = df_contracted_agents['Days to Contract'].max()\n",
    "bins = 50 \n",
    "\n",
    "# 1. Get bins and frequencies for the entire dataset\n",
    "counts_all, bin_edges = np.histogram(df_contracted_agents['Days to Contract'].dropna(), bins=bins, range=(min_day, max_day))\n",
    "\n",
    "# 2. To calculate frequencies_subset with the same bins, we need to assign the days to the bins\n",
    "# For this, we use np.digitize\n",
    "days_subset = df_contracted_agents.loc[list(exclusive_logins), 'Days to Contract'].dropna()\n",
    "bin_indices = np.digitize(days_subset, bins=bin_edges, right=False)\n",
    "\n",
    "# Count the frequencies in the same bins for the subset\n",
    "counts_subset = np.array([np.sum(bin_indices == i) for i in range(1, len(bin_edges))])\n",
    "\n",
    "plt.figure(figsize=(12, 6))\n",
    "\n",
    "# 3. Plot the histogram for the entire dataset\n",
    "plt.bar(bin_edges[:-1], counts_all, width=np.diff(bin_edges)[0], alpha=0.5, label='All agents', color='blue', align='edge')\n",
    "\n",
    "# 4. Plot the histogram for the subset\n",
    "plt.bar(bin_edges[:-1], counts_subset, width=np.diff(bin_edges)[0], alpha=0.7, label='Agents Who Didn’t Start Working', color='orange', align='edge')\n",
    "\n",
    "plt.title('Comparison of Contract Waiting Time Distribution')\n",
    "plt.xlabel('Days Waiting for Contract')\n",
    "plt.ylabel('Number of Agents')\n",
    "plt.legend()\n",
    "plt.grid(axis='y')\n",
    "plt.tight_layout()\n",
    "plt.show()\n"
   ]
  },
  {
   "cell_type": "markdown",
   "id": "484b30de-2fdc-43ab-b9a7-a4d937af1ad4",
   "metadata": {},
   "source": [
    "Based on the distribution, there is no clear correlation: **the number of days between application and contract signing does not affect whether the agent received leads. There is also no dependency on ad source or education level — agents without leads are present across all groups**.\n",
    "\n",
    "Let’s move on to a general analysis of the agent data."
   ]
  },
  {
   "cell_type": "code",
   "execution_count": 26,
   "id": "44524edc-087d-4db3-84fe-997b07c046e9",
   "metadata": {},
   "outputs": [
    {
     "data": {
      "text/html": [
       "<div>\n",
       "<style scoped>\n",
       "    .dataframe tbody tr th:only-of-type {\n",
       "        vertical-align: middle;\n",
       "    }\n",
       "\n",
       "    .dataframe tbody tr th {\n",
       "        vertical-align: top;\n",
       "    }\n",
       "\n",
       "    .dataframe thead th {\n",
       "        text-align: right;\n",
       "    }\n",
       "</style>\n",
       "<table border=\"1\" class=\"dataframe\">\n",
       "  <thead>\n",
       "    <tr style=\"text-align: right;\">\n",
       "      <th>Education Level</th>\n",
       "      <th>Bachelor</th>\n",
       "      <th>College</th>\n",
       "      <th>Masters</th>\n",
       "      <th>Professional</th>\n",
       "      <th>School</th>\n",
       "      <th>Doctorate</th>\n",
       "    </tr>\n",
       "  </thead>\n",
       "  <tbody>\n",
       "    <tr>\n",
       "      <th>count</th>\n",
       "      <td>135</td>\n",
       "      <td>71</td>\n",
       "      <td>45</td>\n",
       "      <td>32</td>\n",
       "      <td>11</td>\n",
       "      <td>2</td>\n",
       "    </tr>\n",
       "  </tbody>\n",
       "</table>\n",
       "</div>"
      ],
      "text/plain": [
       "Education Level  Bachelor  College  Masters  Professional  School  Doctorate\n",
       "count                 135       71       45            32      11          2"
      ]
     },
     "execution_count": 26,
     "metadata": {},
     "output_type": "execute_result"
    }
   ],
   "source": [
    "pd.DataFrame(df_contracted_agents['Education Level'].value_counts()).T"
   ]
  },
  {
   "cell_type": "code",
   "execution_count": 27,
   "id": "6450ad4e-cf0c-4ee5-a406-6cd20a847e43",
   "metadata": {},
   "outputs": [
    {
     "data": {
      "text/html": [
       "<div>\n",
       "<style scoped>\n",
       "    .dataframe tbody tr th:only-of-type {\n",
       "        vertical-align: middle;\n",
       "    }\n",
       "\n",
       "    .dataframe tbody tr th {\n",
       "        vertical-align: top;\n",
       "    }\n",
       "\n",
       "    .dataframe thead th {\n",
       "        text-align: right;\n",
       "    }\n",
       "</style>\n",
       "<table border=\"1\" class=\"dataframe\">\n",
       "  <thead>\n",
       "    <tr style=\"text-align: right;\">\n",
       "      <th>Country of Residence</th>\n",
       "      <th>India</th>\n",
       "      <th>Nigeria</th>\n",
       "      <th>Pakistan</th>\n",
       "      <th>Uzbekistan</th>\n",
       "      <th>Moldova</th>\n",
       "    </tr>\n",
       "  </thead>\n",
       "  <tbody>\n",
       "    <tr>\n",
       "      <th>count</th>\n",
       "      <td>291</td>\n",
       "      <td>6</td>\n",
       "      <td>3</td>\n",
       "      <td>3</td>\n",
       "      <td>1</td>\n",
       "    </tr>\n",
       "  </tbody>\n",
       "</table>\n",
       "</div>"
      ],
      "text/plain": [
       "Country of Residence  India  Nigeria  Pakistan  Uzbekistan  Moldova\n",
       "count                   291        6         3           3        1"
      ]
     },
     "execution_count": 27,
     "metadata": {},
     "output_type": "execute_result"
    }
   ],
   "source": [
    "pd.DataFrame(df_contracted_agents['Country of Residence'].value_counts()).T"
   ]
  },
  {
   "cell_type": "code",
   "execution_count": 28,
   "id": "3ef48691-b6f8-4721-bb77-6297b739d897",
   "metadata": {},
   "outputs": [
    {
     "data": {
      "text/html": [
       "<div>\n",
       "<style scoped>\n",
       "    .dataframe tbody tr th:only-of-type {\n",
       "        vertical-align: middle;\n",
       "    }\n",
       "\n",
       "    .dataframe tbody tr th {\n",
       "        vertical-align: top;\n",
       "    }\n",
       "\n",
       "    .dataframe thead th {\n",
       "        text-align: right;\n",
       "    }\n",
       "</style>\n",
       "<table border=\"1\" class=\"dataframe\">\n",
       "  <thead>\n",
       "    <tr style=\"text-align: right;\">\n",
       "      <th>Source of Advertisement</th>\n",
       "      <th>facebook</th>\n",
       "      <th>Google</th>\n",
       "      <th>linkedin</th>\n",
       "      <th>HRM</th>\n",
       "      <th>DPTR</th>\n",
       "      <th>instagram_bio</th>\n",
       "      <th>indeed</th>\n",
       "      <th>fecebook_bot</th>\n",
       "    </tr>\n",
       "  </thead>\n",
       "  <tbody>\n",
       "    <tr>\n",
       "      <th>count</th>\n",
       "      <td>151</td>\n",
       "      <td>126</td>\n",
       "      <td>9</td>\n",
       "      <td>8</td>\n",
       "      <td>4</td>\n",
       "      <td>2</td>\n",
       "      <td>2</td>\n",
       "      <td>2</td>\n",
       "    </tr>\n",
       "  </tbody>\n",
       "</table>\n",
       "</div>"
      ],
      "text/plain": [
       "Source of Advertisement  facebook  Google  linkedin  HRM  DPTR  \\\n",
       "count                         151        126         9    8     4   \n",
       "\n",
       "Source of Advertisement  instagram_bio  indeed  fecebook_bot  \n",
       "count                                2       2             2  "
      ]
     },
     "execution_count": 28,
     "metadata": {},
     "output_type": "execute_result"
    }
   ],
   "source": [
    "pd.DataFrame(df_contracted_agents['Source of Advertisement'].value_counts()).T"
   ]
  },
  {
   "cell_type": "markdown",
   "id": "1cfa1355-8c3d-4ecf-a6da-c48f88345046",
   "metadata": {},
   "source": [
    "We’ll review the summary data by agent and analyze how the average number of sales per person over 7 months varies depending on the ad source and education level. (The “Country of Residence” column is excluded from the analysis, as almost all agents are from India.)"
   ]
  },
  {
   "cell_type": "code",
   "execution_count": 48,
   "id": "b089c736-a8aa-42c7-a847-aa26afa5f6b4",
   "metadata": {},
   "outputs": [
    {
     "data": {
      "text/plain": [
       "10.64"
      ]
     },
     "execution_count": 48,
     "metadata": {},
     "output_type": "execute_result"
    }
   ],
   "source": [
    "bachelor_logins = df_contracted_agents[df_contracted_agents['Education Level'] == 'Bachelor'].index\n",
    "filtered_sales_bachelor = df_sales_jan_jul[df_sales_jan_jul['Login'].isin(bachelor_logins)]\n",
    "sales_bachelor_mean = filtered_sales_bachelor['Sales Count'].sum() / filtered_sales_bachelor['Login'].nunique()\n",
    "sales_bachelor_mean = round(sales_bachelor_mean, 2)\n",
    "sales_bachelor_mean"
   ]
  },
  {
   "cell_type": "code",
   "execution_count": 47,
   "id": "43fcf1b7-a058-46ba-b5cf-7a20999321c4",
   "metadata": {},
   "outputs": [
    {
     "data": {
      "text/plain": [
       "7.44"
      ]
     },
     "execution_count": 47,
     "metadata": {},
     "output_type": "execute_result"
    }
   ],
   "source": [
    "College_logins = df_contracted_agents[df_contracted_agents['Education Level'] == 'College'].index\n",
    "filtered_sales_College = df_sales_jan_jul[df_sales_jan_jul['Login'].isin(College_logins)]\n",
    "sales_College_mean = filtered_sales_College['Sales Count'].sum() / filtered_sales_College['Login'].nunique()\n",
    "sales_College_mean = round(sales_College_mean, 2)\n",
    "sales_College_mean"
   ]
  },
  {
   "cell_type": "code",
   "execution_count": 46,
   "id": "6317ebee-a072-42dc-9c77-0531f192ff69",
   "metadata": {},
   "outputs": [
    {
     "data": {
      "text/plain": [
       "13.27"
      ]
     },
     "execution_count": 46,
     "metadata": {},
     "output_type": "execute_result"
    }
   ],
   "source": [
    "Masters_logins = df_contracted_agents[df_contracted_agents['Education Level'] == 'Masters'].index\n",
    "filtered_sales_Masters = df_sales_jan_jul[df_sales_jan_jul['Login'].isin(Masters_logins)]\n",
    "sales_Masters_mean = filtered_sales_Masters['Sales Count'].sum() / filtered_sales_Masters['Login'].nunique()\n",
    "sales_Masters_mean = round(sales_Masters_mean, 2)\n",
    "sales_Masters_mean"
   ]
  },
  {
   "cell_type": "code",
   "execution_count": 44,
   "id": "0289bb87-5785-42fe-b72f-b82b2f0ee933",
   "metadata": {},
   "outputs": [
    {
     "data": {
      "text/plain": [
       "10.31"
      ]
     },
     "execution_count": 44,
     "metadata": {},
     "output_type": "execute_result"
    }
   ],
   "source": [
    "Professional_logins = df_contracted_agents[df_contracted_agents['Education Level'] == 'Professional'].index\n",
    "filtered_sales_Professional = df_sales_jan_jul[df_sales_jan_jul['Login'].isin(Professional_logins)]\n",
    "sales_Professional_mean = filtered_sales_Professional['Sales Count'].sum() / filtered_sales_Professional['Login'].nunique()\n",
    "sales_Professional_mean = round(sales_Professional_mean, 2)\n",
    "sales_Professional_mean"
   ]
  },
  {
   "cell_type": "code",
   "execution_count": 45,
   "id": "fb739e41-ebd4-49cf-bb03-0677823fe357",
   "metadata": {},
   "outputs": [
    {
     "data": {
      "text/plain": [
       "20.5"
      ]
     },
     "execution_count": 45,
     "metadata": {},
     "output_type": "execute_result"
    }
   ],
   "source": [
    "School_logins = df_contracted_agents[df_contracted_agents['Education Level'] == 'School'].index\n",
    "filtered_sales_School = df_sales_jan_jul[df_sales_jan_jul['Login'].isin(School_logins)]\n",
    "sales_School_mean = filtered_sales_School['Sales Count'].sum() / filtered_sales_School['Login'].nunique()\n",
    "sales_School_mean = round(sales_School_mean, 2)\n",
    "sales_School_mean"
   ]
  },
  {
   "cell_type": "code",
   "execution_count": 51,
   "id": "73d8295b-fec3-431a-a95a-15fe6896c0e4",
   "metadata": {},
   "outputs": [
    {
     "data": {
      "text/plain": [
       "nan"
      ]
     },
     "execution_count": 51,
     "metadata": {},
     "output_type": "execute_result"
    }
   ],
   "source": [
    "Doctorate_logins = df_contracted_agents[df_contracted_agents['Education Level'] == 'Doctorate'].index\n",
    "filtered_sales_Doctorate = df_sales_jan_jul[df_sales_jan_jul['Login'].isin(Doctorate_logins)]\n",
    "sales_Doctorate_mean = filtered_sales_Doctorate['Sales Count'].mean()\n",
    "sales_Doctorate_mean"
   ]
  },
  {
   "cell_type": "code",
   "execution_count": 35,
   "id": "cea9958e-3825-4585-8164-7892cf5079ca",
   "metadata": {},
   "outputs": [
    {
     "data": {
      "text/html": [
       "<div>\n",
       "<style scoped>\n",
       "    .dataframe tbody tr th:only-of-type {\n",
       "        vertical-align: middle;\n",
       "    }\n",
       "\n",
       "    .dataframe tbody tr th {\n",
       "        vertical-align: top;\n",
       "    }\n",
       "\n",
       "    .dataframe thead th {\n",
       "        text-align: right;\n",
       "    }\n",
       "</style>\n",
       "<table border=\"1\" class=\"dataframe\">\n",
       "  <thead>\n",
       "    <tr style=\"text-align: right;\">\n",
       "      <th>Education Level</th>\n",
       "      <th>Bachelor</th>\n",
       "      <th>College</th>\n",
       "      <th>Masters</th>\n",
       "      <th>Professional</th>\n",
       "      <th>School</th>\n",
       "      <th>Doctorate</th>\n",
       "    </tr>\n",
       "  </thead>\n",
       "  <tbody>\n",
       "    <tr>\n",
       "      <th>Average Sales</th>\n",
       "      <td>10.64</td>\n",
       "      <td>7.44</td>\n",
       "      <td>13.27</td>\n",
       "      <td>10.31</td>\n",
       "      <td>20.5</td>\n",
       "      <td>NaN</td>\n",
       "    </tr>\n",
       "  </tbody>\n",
       "</table>\n",
       "</div>"
      ],
      "text/plain": [
       "Education Level  Bachelor  College  Masters  Professional  School  Doctorate\n",
       "Average Sales       10.64     7.44    13.27         10.31    20.5        NaN"
      ]
     },
     "execution_count": 35,
     "metadata": {},
     "output_type": "execute_result"
    }
   ],
   "source": [
    "df_mean_sales = pd.DataFrame({\n",
    "    'Education Level': ['Bachelor', 'College', 'Masters', 'Professional', 'School', 'Doctorate'],\n",
    "    'Average Sales': [\n",
    "        sales_bachelor_mean,\n",
    "        sales_College_mean,\n",
    "        sales_Masters_mean,\n",
    "        sales_Professional_mean,\n",
    "        sales_School_mean,\n",
    "        sales_Doctorate_mean\n",
    "    ]\n",
    "})\n",
    "\n",
    "df_mean_sales = df_mean_sales.set_index('Education Level')\n",
    "df_mean_sales.T"
   ]
  },
  {
   "cell_type": "code",
   "execution_count": 53,
   "id": "71721b57-95bb-4ec8-b69c-d0ccc45386be",
   "metadata": {},
   "outputs": [
    {
     "data": {
      "text/plain": [
       "12.12"
      ]
     },
     "execution_count": 53,
     "metadata": {},
     "output_type": "execute_result"
    }
   ],
   "source": [
    "facebook_logins = df_contracted_agents[df_contracted_agents['Source of Advertisement'] == 'facebook'].index\n",
    "filtered_sales_facebook = df_sales_jan_jul[df_sales_jan_jul['Login'].isin(facebook_logins)]\n",
    "sales_facebook_mean = filtered_sales_facebook['Sales Count'].sum() / filtered_sales_facebook['Login'].nunique()\n",
    "sales_facebook_mean = round(sales_facebook_mean, 2)\n",
    "sales_facebook_mean"
   ]
  },
  {
   "cell_type": "code",
   "execution_count": 54,
   "id": "d3d49292-87ba-4b9f-b1ce-0c0d8132e07f",
   "metadata": {},
   "outputs": [
    {
     "data": {
      "text/plain": [
       "9.3"
      ]
     },
     "execution_count": 54,
     "metadata": {},
     "output_type": "execute_result"
    }
   ],
   "source": [
    "Google_logins = df_contracted_agents[df_contracted_agents['Source of Advertisement'] == 'Google'].index\n",
    "filtered_sales_Google = df_sales_jan_jul[df_sales_jan_jul['Login'].isin(Google_logins)]\n",
    "sales_Google_mean = filtered_sales_Google['Sales Count'].sum() / filtered_sales_Google['Login'].nunique()\n",
    "sales_Google_mean = round(sales_Google_mean, 2)\n",
    "sales_Google_mean"
   ]
  },
  {
   "cell_type": "code",
   "execution_count": 138,
   "id": "375f3d71-e660-44d0-a4f9-00066cd47c5b",
   "metadata": {},
   "outputs": [
    {
     "data": {
      "text/html": [
       "<div>\n",
       "<style scoped>\n",
       "    .dataframe tbody tr th:only-of-type {\n",
       "        vertical-align: middle;\n",
       "    }\n",
       "\n",
       "    .dataframe tbody tr th {\n",
       "        vertical-align: top;\n",
       "    }\n",
       "\n",
       "    .dataframe thead th {\n",
       "        text-align: right;\n",
       "    }\n",
       "</style>\n",
       "<table border=\"1\" class=\"dataframe\">\n",
       "  <thead>\n",
       "    <tr style=\"text-align: right;\">\n",
       "      <th>Source of Advertisement</th>\n",
       "      <th>facebook</th>\n",
       "      <th>Google</th>\n",
       "    </tr>\n",
       "  </thead>\n",
       "  <tbody>\n",
       "    <tr>\n",
       "      <th>Average Sales</th>\n",
       "      <td>12.12</td>\n",
       "      <td>9.3</td>\n",
       "    </tr>\n",
       "  </tbody>\n",
       "</table>\n",
       "</div>"
      ],
      "text/plain": [
       "Source of Advertisement  facebook  Google\n",
       "Average Sales               12.12        9.3"
      ]
     },
     "execution_count": 138,
     "metadata": {},
     "output_type": "execute_result"
    }
   ],
   "source": [
    "df_mean_sales = pd.DataFrame({\n",
    "    'Source of Advertisement': ['facebook', 'Google'],\n",
    "    'Average Sales': [\n",
    "        sales_facebook_mean,\n",
    "        sales_Google_mean\n",
    "    ]\n",
    "})\n",
    "\n",
    "df_mean_sales = df_mean_sales.set_index('Source of Advertisement')\n",
    "df_mean_sales.T"
   ]
  },
  {
   "cell_type": "code",
   "execution_count": 52,
   "id": "eb9a6b77-ace4-4e20-891e-196712f1a37c",
   "metadata": {},
   "outputs": [
    {
     "name": "stdout",
     "output_type": "stream",
     "text": [
      "33\n",
      "27\n",
      "11\n",
      "13\n",
      "4\n",
      "0\n"
     ]
    }
   ],
   "source": [
    "print(filtered_sales_bachelor['Login'].nunique())\n",
    "print(filtered_sales_College['Login'].nunique())\n",
    "print(filtered_sales_Masters['Login'].nunique())\n",
    "print(filtered_sales_Professional['Login'].nunique())\n",
    "print(filtered_sales_School['Login'].nunique())\n",
    "print(filtered_sales_Doctorate['Login'].nunique())"
   ]
  },
  {
   "cell_type": "markdown",
   "id": "6770f717-338e-489c-8be7-44fa0d2f7255",
   "metadata": {},
   "source": [
    "According to the data, **agents with the education level \"School\" show the highest average number of sales per person over 7 months. However, it’s important to note that there are only 4 such agents in the dataset, so the results may not be statistically stable. In the other groups, there is no clear relationship between sales volume and education level or ad source**.\n",
    "\n",
    "In total: **out of 304 valid agents from contracted_agents, only 212 received leads, and just 93 of them made at least one sale**."
   ]
  },
  {
   "cell_type": "code",
   "execution_count": 12,
   "id": "c9f4429f-8917-4535-927c-9d341b43f75f",
   "metadata": {},
   "outputs": [
    {
     "data": {
      "text/plain": [
       "212"
      ]
     },
     "execution_count": 12,
     "metadata": {},
     "output_type": "execute_result"
    }
   ],
   "source": [
    "a = set(df_sales_jan_jul['Login'].unique())\n",
    "b = set(df_contracted_agents.index)\n",
    "c = set(df_assigned_leads['Login'].unique())\n",
    "d = c & b\n",
    "len(d)"
   ]
  },
  {
   "cell_type": "markdown",
   "id": "e2c1fa81-651c-4241-92be-fe653aefa0fe",
   "metadata": {},
   "source": [
    "### Key Points:\n",
    "\n",
    "1. On average, each agent makes about 0.05 sales per day and earns 0.26 in daily profit.\n",
    "2. There is a clear outlier — the row \"va380, 2024-05\" with a \"Leads Taken\" value of 4652.\n",
    "3. None of the top 10 agents by sales are in the top 10 by received leads.\n",
    "4. On average, 133 leads are needed to make one sale, which brings in $5 in profit (Total profit).\n",
    "5. Approximately 56% of agents made no more than 4 sales over 7 months.\n",
    "6. In their first month, agents receive on average 2 times fewer leads than in the following months.\n",
    "7. The number of days between application and contract signing does not affect whether an agent received leads.\n",
    "8. There is no dependency on ad source or education level — agents without leads are found in all groups.\n",
    "9. Agents with the education level \"School\" show the highest average number of sales per person over 7 months. However, the sample size is only 4, so the result may not be statistically reliable.\n",
    "10. In other groups, there is no clear link between sales volume and education or ad source.\n",
    "11. Out of 304 valid agents in contracted_agents, only 212 received leads, and only 93 made at least one sale."
   ]
  },
  {
   "cell_type": "code",
   "execution_count": 15,
   "id": "5cf98dea-4155-4e62-be8c-c26c30c7e77f",
   "metadata": {},
   "outputs": [],
   "source": [
    "!jupyter nbconvert \"The second part.ipynb\" --to html --no-input --log-level=ERROR"
   ]
  }
 ],
 "metadata": {
  "kernelspec": {
   "display_name": "Python 3 (ipykernel)",
   "language": "python",
   "name": "python3"
  },
  "language_info": {
   "codemirror_mode": {
    "name": "ipython",
    "version": 3
   },
   "file_extension": ".py",
   "mimetype": "text/x-python",
   "name": "python",
   "nbconvert_exporter": "python",
   "pygments_lexer": "ipython3",
   "version": "3.12.4"
  }
 },
 "nbformat": 4,
 "nbformat_minor": 5
}
